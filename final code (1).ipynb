{
 "cells": [
  {
   "cell_type": "markdown",
   "id": "b7c8a63b",
   "metadata": {},
   "source": [
    "# Part 1. Supervised ML"
   ]
  },
  {
   "cell_type": "code",
   "execution_count": 1,
   "id": "bf2044b1",
   "metadata": {},
   "outputs": [],
   "source": [
    "# import libraries\n",
    "\n",
    "from sklearn.linear_model import LogisticRegression\n",
    "\n",
    "from sklearn.compose import ColumnTransformer\n",
    "\n",
    "from sklearn.tree import DecisionTreeClassifier\n",
    "\n",
    "from sklearn.ensemble import RandomForestClassifier\n",
    "\n",
    "from sklearn.svm import SVC\n",
    "\n",
    "from sklearn.neighbors import KNeighborsClassifier\n",
    "\n",
    "from sklearn.preprocessing import StandardScaler, OneHotEncoder\n",
    "\n",
    "from sklearn.model_selection import GridSearchCV, train_test_split, cross_val_score\n",
    "\n",
    "from sklearn.pipeline import make_pipeline\n",
    "\n",
    "from sklearn.compose import make_column_transformer, make_column_selector\n",
    "\n",
    "from sklearn.impute import SimpleImputer \n",
    "\n",
    "import pandas as pd\n",
    "\n",
    "import numpy as np\n",
    "\n",
    "from sklearn.metrics import precision_score, recall_score, accuracy_score\n",
    "\n",
    "from sklearn.model_selection import RepeatedStratifiedKFold\n",
    "\n",
    "from sklearn.feature_selection import RFE\n"
   ]
  },
  {
   "cell_type": "code",
   "execution_count": 3,
   "id": "ca70b4a1",
   "metadata": {},
   "outputs": [],
   "source": [
    "pd.options.display.max_rows = None\n",
    "pd.options.display.max_columns = None"
   ]
  },
  {
   "cell_type": "markdown",
   "id": "b9008e47",
   "metadata": {},
   "source": [
    "## Cleaning the data"
   ]
  },
  {
   "cell_type": "code",
   "execution_count": 2,
   "id": "a82e2174",
   "metadata": {},
   "outputs": [],
   "source": [
    "# load the two datasets\n",
    "soil = pd.read_csv(\"soil_data.csv\")\n",
    "weather = pd.read_csv(\"train_timeseries.csv\")\n",
    "\n",
    "#concat them and draw a sample\n",
    "conc = pd.merge(left = weather, right=soil)\n",
    "sample = conc.sample(n = 100000)\n",
    "\n",
    "sample.reset_index(inplace = True)\n",
    "\n",
    "new_sample = sample.copy()\n",
    "new_sample['date'] = pd.to_datetime(new_sample['date'])\n",
    "new_sample = new_sample.groupby(['date','fips']).mean()\n",
    "\n",
    "# group by date, as dataframe contains multiple values for the same date, and add the weekly drought score to\n",
    "# all days that week\n",
    "df = new_sample.reset_index().drop(\"fips\", axis = 1)\n",
    "df.sort_values(by=\"date\", inplace = True)\n",
    "df.score = df.score.fillna(method = \"backfill\")\n",
    "df = df.groupby(\"date\").mean()\n",
    "df.score = df.score.fillna(method = \"ffill\")\n",
    "\n",
    "# replace float drought scores with the D0-D4 scale\n",
    "def myfunc(x):\n",
    "    if x < 1:\n",
    "        return \"No drought\"\n",
    "    elif x > 0.9999 and x < 2:\n",
    "        return \"D0\"\n",
    "    elif x > 1.9999 and x < 3:\n",
    "        return \"D1\"\n",
    "    elif x > 2.9999 and x < 4:\n",
    "        return \"D2\"\n",
    "    elif x > 3.9999 and x < 5:\n",
    "        return \"D3\"\n",
    "    elif x == 5:\n",
    "        return \"D4\"\n",
    "\n",
    "df.score = df.score.apply(myfunc)\n",
    "\n",
    "df.drop(\"index\", axis = 1, inplace = True)"
   ]
  },
  {
   "cell_type": "markdown",
   "id": "60d8d168",
   "metadata": {},
   "source": [
    "## Splitting data"
   ]
  },
  {
   "cell_type": "code",
   "execution_count": 5,
   "id": "2fcfbf62",
   "metadata": {},
   "outputs": [],
   "source": [
    "df_test = df[['PRECTOT','PS', 'QV2M', 'T2M', 'T2MDEW', 'T2MWET', 'T2M_MAX',\n",
    "       'T2M_MIN', 'T2M_RANGE', 'TS', 'lat', 'lon', 'elevation', 'SQ1', 'SQ2', 'score']]"
   ]
  },
  {
   "cell_type": "code",
   "execution_count": 6,
   "id": "82611edb",
   "metadata": {},
   "outputs": [],
   "source": [
    "# the data came in two files: test and train. This is the train file, but we will split it anyway for an extra\n",
    "# training set (validation)\n",
    "\n",
    "target = \"score\"\n",
    "\n",
    "X = df_test.drop(target, axis = 1)\n",
    "y = df_test[target]\n",
    "\n",
    "X_train, X_test, y_train, y_test = train_test_split(X, y, random_state = 42)"
   ]
  },
  {
   "cell_type": "markdown",
   "id": "26e4669a",
   "metadata": {},
   "source": [
    "## Creating dummies to make the baseline"
   ]
  },
  {
   "cell_type": "code",
   "execution_count": 7,
   "id": "35da1691",
   "metadata": {},
   "outputs": [
    {
     "name": "stdout",
     "output_type": "stream",
     "text": [
      "The baseline to beat is an accuracy of 0.6894996779042302\n"
     ]
    }
   ],
   "source": [
    "from sklearn.dummy import DummyClassifier\n",
    "\n",
    "dummy = DummyClassifier()\n",
    "\n",
    "dummy.fit(X_train, y_train)\n",
    "\n",
    "baseline = dummy.score(X_train, y_train)\n",
    "print(f\"The baseline to beat is an accuracy of {baseline}\")"
   ]
  },
  {
   "cell_type": "markdown",
   "id": "556847ec",
   "metadata": {},
   "source": [
    "## Making the model"
   ]
  },
  {
   "cell_type": "code",
   "execution_count": 8,
   "id": "a610994d",
   "metadata": {},
   "outputs": [
    {
     "name": "stdout",
     "output_type": "stream",
     "text": [
      "Train score for LogisticRegression(max_iter=1000): 0.6897145530902671\n",
      "\n",
      "Train score for DecisionTreeClassifier(): 0.5067641513348053\n",
      "\n",
      "Train score for RandomForestClassifier(): 0.6849914485785279\n",
      "\n",
      "Train score for SVC(): 0.6894997303190533\n",
      "\n",
      "Train score for KNeighborsClassifier(): 0.6235811785748859\n",
      "\n"
     ]
    }
   ],
   "source": [
    "num_cols = X.select_dtypes(\"number\").columns\n",
    "num_trans = make_pipeline(StandardScaler())\n",
    "\n",
    "cat_cols = X.select_dtypes(\"object\").columns\n",
    "encoder = OneHotEncoder(drop = \"if_binary\", handle_unknown= \"ignore\")\n",
    "col_trans = make_pipeline(\n",
    "    encoder\n",
    "    )\n",
    "\n",
    "preprocessor = make_column_transformer((num_trans, num_cols),(col_trans, cat_cols))\n",
    "\n",
    "classifiers = [LogisticRegression(max_iter = 1000), \n",
    "              DecisionTreeClassifier(),\n",
    "              RandomForestClassifier(),\n",
    "              SVC(),\n",
    "              KNeighborsClassifier()]\n",
    "\n",
    "for classifier in classifiers:\n",
    "    pipe = make_pipeline(preprocessor, classifier)\n",
    "    grid = GridSearchCV(estimator = pipe, param_grid = {}, cv = 5, scoring = \"accuracy\")\n",
    "    grid.fit(X_train, y_train)\n",
    "    \n",
    "    print(f\"Train score for {classifier}: {grid.best_score_}\")\n",
    "    print(\"\")"
   ]
  },
  {
   "cell_type": "code",
   "execution_count": 9,
   "id": "9676d8cd",
   "metadata": {},
   "outputs": [
    {
     "name": "stdout",
     "output_type": "stream",
     "text": [
      "Precision Score :  0.689929138930642\n",
      "Recall Score : 0.689929138930642\n",
      "Accuracy score: 0.689929138930642\n"
     ]
    }
   ],
   "source": [
    "# Tuning hyperparams for chosen classifier (LogReg)\n",
    "\n",
    "clf = LogisticRegression(max_iter = 1000)\n",
    "pipe = make_pipeline(preprocessor, clf)\n",
    "c_params = {\"logisticregression__C\":[0.0001]}\n",
    "\n",
    "grid = GridSearchCV(pipe, param_grid = c_params, cv = 5) #tunes hyperparam and crossval\n",
    "\n",
    "\n",
    "grid.fit(X_train, y_train)\n",
    "pipe.fit(X_train, y_train)\n",
    "\n",
    "y_true = y_train\n",
    "\n",
    "y_pred = pipe.predict(X_train)\n",
    "\n",
    "print(\"Precision Score : \",precision_score(y_train,y_pred,average = \"micro\"))\n",
    "print(\"Recall Score :\" , recall_score(y_train, y_pred, average = \"micro\") )\n",
    "print(\"Accuracy score:\" , accuracy_score(y_train, y_pred))"
   ]
  },
  {
   "cell_type": "markdown",
   "id": "8e02c94d",
   "metadata": {},
   "source": [
    "## Test model"
   ]
  },
  {
   "cell_type": "code",
   "execution_count": 10,
   "id": "ce26b7c2",
   "metadata": {},
   "outputs": [
    {
     "data": {
      "text/plain": [
       "0.6857694784288474"
      ]
     },
     "execution_count": 10,
     "metadata": {},
     "output_type": "execute_result"
    }
   ],
   "source": [
    "grid = GridSearchCV(pipe, param_grid = c_params, cv = 5)\n",
    "grid.fit(X_test, y_test)\n",
    "grid.score(X_test, y_test)"
   ]
  },
  {
   "cell_type": "code",
   "execution_count": 11,
   "id": "f7503936",
   "metadata": {},
   "outputs": [
    {
     "data": {
      "text/plain": [
       "<sklearn.metrics._plot.confusion_matrix.ConfusionMatrixDisplay at 0x7f9e4ee2ff40>"
      ]
     },
     "execution_count": 11,
     "metadata": {},
     "output_type": "execute_result"
    },
    {
     "data": {
      "image/png": "[encoded data removed]",
      "text/plain": [
       "<Figure size 432x288 with 2 Axes>"
      ]
     },
     "metadata": {
      "needs_background": "light"
     },
     "output_type": "display_data"
    }
   ],
   "source": [
    "from sklearn.metrics import confusion_matrix, ConfusionMatrixDisplay\n",
    "\n",
    "pred = grid.predict(X_test)\n",
    "cm = confusion_matrix(y_test, pred)\n",
    "\n",
    "ConfusionMatrixDisplay(confusion_matrix=cm, display_labels = grid.classes_).plot()"
   ]
  },
  {
   "cell_type": "code",
   "execution_count": 12,
   "id": "d43ed5f0",
   "metadata": {},
   "outputs": [],
   "source": [
    "from sklearn import metrics, model_selection"
   ]
  },
  {
   "cell_type": "code",
   "execution_count": 13,
   "id": "7e3c463c",
   "metadata": {},
   "outputs": [
    {
     "data": {
      "text/plain": [
       "Pipeline(steps=[('columntransformer',\n",
       "                 ColumnTransformer(transformers=[('pipeline-1',\n",
       "                                                  Pipeline(steps=[('standardscaler',\n",
       "                                                                   StandardScaler())]),\n",
       "                                                  Index(['PRECTOT', 'PS', 'QV2M', 'T2M', 'T2MDEW', 'T2MWET', 'T2M_MAX',\n",
       "       'T2M_MIN', 'T2M_RANGE', 'TS', 'lat', 'lon', 'elevation', 'SQ1', 'SQ2'],\n",
       "      dtype='object')),\n",
       "                                                 ('pipeline-2',\n",
       "                                                  Pipeline(steps=[('onehotencoder',\n",
       "                                                                   OneHotEncoder(drop='if_binary',\n",
       "                                                                                 handle_unknown='ignore'))]),\n",
       "                                                  Index([], dtype='object'))])),\n",
       "                ('logisticregression', LogisticRegression(C=0.001))])"
      ]
     },
     "execution_count": 13,
     "metadata": {},
     "output_type": "execute_result"
    }
   ],
   "source": [
    "# refitting the model on all our data\n",
    "\n",
    "model = make_pipeline(preprocessor, LogisticRegression(C = 0.001))\n",
    "model.fit(X, y)"
   ]
  },
  {
   "cell_type": "code",
   "execution_count": 14,
   "id": "65afdd16",
   "metadata": {},
   "outputs": [],
   "source": [
    "from joblib import dump"
   ]
  },
  {
   "cell_type": "code",
   "execution_count": 15,
   "id": "c428bc67",
   "metadata": {},
   "outputs": [
    {
     "data": {
      "text/plain": [
       "['drought_model.joblib']"
      ]
     },
     "execution_count": 15,
     "metadata": {},
     "output_type": "execute_result"
    }
   ],
   "source": [
    "# serialize our model to our harddrive for future use\n",
    "\n",
    "dump(model, \"drought_model.joblib\")"
   ]
  },
  {
   "cell_type": "markdown",
   "id": "0b2cbcb6",
   "metadata": {},
   "source": [
    "# Part 2. Visualizing"
   ]
  },
  {
   "cell_type": "code",
   "execution_count": 17,
   "id": "162ca074",
   "metadata": {},
   "outputs": [],
   "source": [
    "# grouping dates into years\n",
    "df.reset_index(inplace = True)\n",
    "df[\"year\"] = df.date.dt.year\n",
    "\n",
    "# turning classes numerical for simplicity in graphs\n",
    "def myfunc(x):\n",
    "    if x == \"No drought\":\n",
    "        return 0\n",
    "    elif x == \"D0\":\n",
    "        return 1\n",
    "    elif x == \"D1\":\n",
    "        return 2\n",
    "    elif x == \"D2\":\n",
    "        return 3\n",
    "    elif x == \"D3\":\n",
    "        return 4\n",
    "    elif x == \"D4\":\n",
    "        return 5\n",
    "df.score = df.score.apply(myfunc)\n",
    "\n",
    "new_sample = new_sample.reset_index()"
   ]
  },
  {
   "cell_type": "code",
   "execution_count": 18,
   "id": "66b49886",
   "metadata": {},
   "outputs": [],
   "source": [
    "# turn fips codes into states\n",
    "# this info is later extracted to create a map using QGIS\n",
    "\n",
    "def states(x):\n",
    "    if x in range(1001,2013):\n",
    "        return \"Alabama\"\n",
    "    elif x in range(4001,4027):\n",
    "        return \"Arizona\"\n",
    "    elif x in range(5001, 5149):\n",
    "        return \"Arkansas\"\n",
    "    elif x in range(6001,6115):\n",
    "        return \"California\"\n",
    "    elif x in range(8001,8125):\n",
    "        return \"Colorado\"\n",
    "    elif x in range(9001, 9015):\n",
    "        return \"Connecticut\"\n",
    "    elif x in range(10001, 10005):\n",
    "        return \"Delaware\"\n",
    "    elif x == 11001:\n",
    "        return \"District of Columbia\"\n",
    "    elif x in range(12001,12133):\n",
    "        return \"Florida\"\n",
    "    elif x in range(13001, 13321):\n",
    "        return \"Georgia\"\n",
    "    elif x in range(16001,16087):\n",
    "        return \"Idaho\"\n",
    "    elif x in range(17001, 17203):\n",
    "        return \"Illinois\"\n",
    "    elif x in range(18001, 18183):\n",
    "        return \"Indiana\"\n",
    "    elif x in range(19001, 19195):\n",
    "        return \"Iowa\"\n",
    "    elif x in range(20001, 20209):\n",
    "        return \"Kansas\"\n",
    "    elif x in range(21001,21239):\n",
    "        return \"Kentucky\"\n",
    "    elif x in range(22001, 22127):\n",
    "        return \"Louisiana\"\n",
    "    elif x in range(23001,23031):\n",
    "        return \"Maine\"\n",
    "    elif x in range(24001,24510):\n",
    "        return \"Maryland\"\n",
    "    elif x in range(25001, 25027):\n",
    "        return \"Massachusetts\"\n",
    "    elif x in range(26001,26165):\n",
    "        return \"Michigan\"\n",
    "    elif x in range(27001,27173):\n",
    "        return \"Minnesota\"\n",
    "    elif x in range(28001, 28163):\n",
    "        return \"Mississippi\"\n",
    "    elif x in range(29001,29510):\n",
    "        return \"Missouri\"\n",
    "    elif x in range(30001,30113):\n",
    "        return \"Montana\"\n",
    "    elif x in range(31001,31183):\n",
    "        return \"Nebraska\"\n",
    "    elif x in range(32001,32510):\n",
    "        return \"Nevada\"\n",
    "    elif x in range(33001,33019):\n",
    "        return \"New Hampshire\"\n",
    "    elif x in range(34001,34041):\n",
    "        return \"New Jersey\"\n",
    "    elif x in range(35001,35061):\n",
    "        return \"New Mexico\"\n",
    "    elif x in range(36001,36123):\n",
    "        return \"New York\"\n",
    "    elif x in range(37001,37199):\n",
    "        return \"North Carolina\"\n",
    "    elif x in range(38001,38105):\n",
    "        return \"North Dakota\"\n",
    "    elif x in range(39001,39175):\n",
    "        return \"Ohio\"\n",
    "    elif x in range(40001,40153):\n",
    "        return \"Oklahoma\"\n",
    "    elif x in range(41001,41071):\n",
    "        return \"Oregon\"\n",
    "    elif x in range(42001,42133):\n",
    "        return \"Philadelpia\"\n",
    "    elif x in range(44001,44009):\n",
    "        return \"Rhode Island\"\n",
    "    elif x in range(45001,45091):\n",
    "        return \"South Carolina\"\n",
    "    elif x in range(46003,46137):\n",
    "        return \"South Dakota\"\n",
    "    elif x in range(47001,47189):\n",
    "        return \"Tennessee\"\n",
    "    elif x in range(48001,48507):\n",
    "        return \"Texas\"\n",
    "    elif x in range(49001,49057):\n",
    "        return \"Utah\"\n",
    "    elif x in range(50001,50027):\n",
    "        return \"Vermont\"\n",
    "    elif x in range(51001,51840):\n",
    "        return \"Virginia\"\n",
    "    elif x in range(53001,53077):\n",
    "        return \"Washington\"\n",
    "    elif x in range(54001,54109):\n",
    "        return \"West Virginia\"\n",
    "    elif x in range(55001,55141):\n",
    "        return \"Wisconsin\"\n",
    "    elif x in range(56001,56045):\n",
    "        return \"Wyoming\"\n",
    "\n",
    "new_sample.fips = new_sample.fips.apply(states)\n",
    "states = new_sample.groupby(\"fips\")[\"score\"].mean()\n",
    "# turn into csv for importing into QGIS - no other work done in code here\n",
    "states.to_csv(\"states.csv\")"
   ]
  },
  {
   "cell_type": "code",
   "execution_count": null,
   "id": "916ea9e7",
   "metadata": {},
   "outputs": [],
   "source": []
  }
 ],
 "metadata": {
  "kernelspec": {
   "display_name": "Python 3 (ipykernel)",
   "language": "python",
   "name": "python3"
  },
  "language_info": {
   "codemirror_mode": {
    "name": "ipython",
    "version": 3
   },
   "file_extension": ".py",
   "mimetype": "text/x-python",
   "name": "python",
   "nbconvert_exporter": "python",
   "pygments_lexer": "ipython3",
   "version": "3.9.7"
  }
 },
 "nbformat": 4,
 "nbformat_minor": 5
}
